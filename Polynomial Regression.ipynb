{
 "cells": [
  {
   "cell_type": "code",
   "execution_count": 11,
   "id": "0be4ee70",
   "metadata": {},
   "outputs": [],
   "source": [
    "import matplotlib.pyplot as plt\n",
    "import pandas as pd\n",
    "import numpy as np\n",
    "import pylab as pl"
   ]
  },
  {
   "cell_type": "code",
   "execution_count": 12,
   "id": "3e4fed3b",
   "metadata": {},
   "outputs": [
    {
     "data": {
      "text/html": [
       "<div>\n",
       "<style scoped>\n",
       "    .dataframe tbody tr th:only-of-type {\n",
       "        vertical-align: middle;\n",
       "    }\n",
       "\n",
       "    .dataframe tbody tr th {\n",
       "        vertical-align: top;\n",
       "    }\n",
       "\n",
       "    .dataframe thead th {\n",
       "        text-align: right;\n",
       "    }\n",
       "</style>\n",
       "<table border=\"1\" class=\"dataframe\">\n",
       "  <thead>\n",
       "    <tr style=\"text-align: right;\">\n",
       "      <th></th>\n",
       "      <th>MODELYEAR</th>\n",
       "      <th>MAKE</th>\n",
       "      <th>MODEL</th>\n",
       "      <th>VEHICLECLASS</th>\n",
       "      <th>ENGINESIZE</th>\n",
       "      <th>CYLINDERS</th>\n",
       "      <th>TRANSMISSION</th>\n",
       "      <th>FUELTYPE</th>\n",
       "      <th>FUELCONSUMPTION_CITY</th>\n",
       "      <th>FUELCONSUMPTION_HWY</th>\n",
       "      <th>FUELCONSUMPTION_COMB</th>\n",
       "      <th>FUELCONSUMPTION_COMB_MPG</th>\n",
       "      <th>CO2EMISSIONS</th>\n",
       "    </tr>\n",
       "  </thead>\n",
       "  <tbody>\n",
       "    <tr>\n",
       "      <th>0</th>\n",
       "      <td>2014</td>\n",
       "      <td>ACURA</td>\n",
       "      <td>ILX</td>\n",
       "      <td>COMPACT</td>\n",
       "      <td>2.0</td>\n",
       "      <td>4</td>\n",
       "      <td>AS5</td>\n",
       "      <td>Z</td>\n",
       "      <td>9.9</td>\n",
       "      <td>6.7</td>\n",
       "      <td>8.5</td>\n",
       "      <td>33</td>\n",
       "      <td>196</td>\n",
       "    </tr>\n",
       "    <tr>\n",
       "      <th>1</th>\n",
       "      <td>2014</td>\n",
       "      <td>ACURA</td>\n",
       "      <td>ILX</td>\n",
       "      <td>COMPACT</td>\n",
       "      <td>2.4</td>\n",
       "      <td>4</td>\n",
       "      <td>M6</td>\n",
       "      <td>Z</td>\n",
       "      <td>11.2</td>\n",
       "      <td>7.7</td>\n",
       "      <td>9.6</td>\n",
       "      <td>29</td>\n",
       "      <td>221</td>\n",
       "    </tr>\n",
       "    <tr>\n",
       "      <th>2</th>\n",
       "      <td>2014</td>\n",
       "      <td>ACURA</td>\n",
       "      <td>ILX HYBRID</td>\n",
       "      <td>COMPACT</td>\n",
       "      <td>1.5</td>\n",
       "      <td>4</td>\n",
       "      <td>AV7</td>\n",
       "      <td>Z</td>\n",
       "      <td>6.0</td>\n",
       "      <td>5.8</td>\n",
       "      <td>5.9</td>\n",
       "      <td>48</td>\n",
       "      <td>136</td>\n",
       "    </tr>\n",
       "    <tr>\n",
       "      <th>3</th>\n",
       "      <td>2014</td>\n",
       "      <td>ACURA</td>\n",
       "      <td>MDX 4WD</td>\n",
       "      <td>SUV - SMALL</td>\n",
       "      <td>3.5</td>\n",
       "      <td>6</td>\n",
       "      <td>AS6</td>\n",
       "      <td>Z</td>\n",
       "      <td>12.7</td>\n",
       "      <td>9.1</td>\n",
       "      <td>11.1</td>\n",
       "      <td>25</td>\n",
       "      <td>255</td>\n",
       "    </tr>\n",
       "    <tr>\n",
       "      <th>4</th>\n",
       "      <td>2014</td>\n",
       "      <td>ACURA</td>\n",
       "      <td>RDX AWD</td>\n",
       "      <td>SUV - SMALL</td>\n",
       "      <td>3.5</td>\n",
       "      <td>6</td>\n",
       "      <td>AS6</td>\n",
       "      <td>Z</td>\n",
       "      <td>12.1</td>\n",
       "      <td>8.7</td>\n",
       "      <td>10.6</td>\n",
       "      <td>27</td>\n",
       "      <td>244</td>\n",
       "    </tr>\n",
       "  </tbody>\n",
       "</table>\n",
       "</div>"
      ],
      "text/plain": [
       "   MODELYEAR   MAKE       MODEL VEHICLECLASS  ENGINESIZE  CYLINDERS  \\\n",
       "0       2014  ACURA         ILX      COMPACT         2.0          4   \n",
       "1       2014  ACURA         ILX      COMPACT         2.4          4   \n",
       "2       2014  ACURA  ILX HYBRID      COMPACT         1.5          4   \n",
       "3       2014  ACURA     MDX 4WD  SUV - SMALL         3.5          6   \n",
       "4       2014  ACURA     RDX AWD  SUV - SMALL         3.5          6   \n",
       "\n",
       "  TRANSMISSION FUELTYPE  FUELCONSUMPTION_CITY  FUELCONSUMPTION_HWY  \\\n",
       "0          AS5        Z                   9.9                  6.7   \n",
       "1           M6        Z                  11.2                  7.7   \n",
       "2          AV7        Z                   6.0                  5.8   \n",
       "3          AS6        Z                  12.7                  9.1   \n",
       "4          AS6        Z                  12.1                  8.7   \n",
       "\n",
       "   FUELCONSUMPTION_COMB  FUELCONSUMPTION_COMB_MPG  CO2EMISSIONS  \n",
       "0                   8.5                        33           196  \n",
       "1                   9.6                        29           221  \n",
       "2                   5.9                        48           136  \n",
       "3                  11.1                        25           255  \n",
       "4                  10.6                        27           244  "
      ]
     },
     "execution_count": 12,
     "metadata": {},
     "output_type": "execute_result"
    }
   ],
   "source": [
    "file_path = \"/Users/atenafazeli/Desktop/ML/Linear_Regression/Fuel_consumption/fuel_consumption.csv\"\n",
    "\n",
    "df = pd.read_csv(file_path)\n",
    "\n",
    "df.head()"
   ]
  },
  {
   "cell_type": "code",
   "execution_count": 13,
   "id": "23baed3b",
   "metadata": {},
   "outputs": [
    {
     "data": {
      "text/html": [
       "<div>\n",
       "<style scoped>\n",
       "    .dataframe tbody tr th:only-of-type {\n",
       "        vertical-align: middle;\n",
       "    }\n",
       "\n",
       "    .dataframe tbody tr th {\n",
       "        vertical-align: top;\n",
       "    }\n",
       "\n",
       "    .dataframe thead th {\n",
       "        text-align: right;\n",
       "    }\n",
       "</style>\n",
       "<table border=\"1\" class=\"dataframe\">\n",
       "  <thead>\n",
       "    <tr style=\"text-align: right;\">\n",
       "      <th></th>\n",
       "      <th>ENGINESIZE</th>\n",
       "      <th>CYLINDERS</th>\n",
       "      <th>FUELCONSUMPTION_HWY</th>\n",
       "      <th>FUELCONSUMPTION_COMB</th>\n",
       "      <th>CO2EMISSIONS</th>\n",
       "    </tr>\n",
       "  </thead>\n",
       "  <tbody>\n",
       "    <tr>\n",
       "      <th>0</th>\n",
       "      <td>2.0</td>\n",
       "      <td>4</td>\n",
       "      <td>6.7</td>\n",
       "      <td>8.5</td>\n",
       "      <td>196</td>\n",
       "    </tr>\n",
       "    <tr>\n",
       "      <th>1</th>\n",
       "      <td>2.4</td>\n",
       "      <td>4</td>\n",
       "      <td>7.7</td>\n",
       "      <td>9.6</td>\n",
       "      <td>221</td>\n",
       "    </tr>\n",
       "    <tr>\n",
       "      <th>2</th>\n",
       "      <td>1.5</td>\n",
       "      <td>4</td>\n",
       "      <td>5.8</td>\n",
       "      <td>5.9</td>\n",
       "      <td>136</td>\n",
       "    </tr>\n",
       "    <tr>\n",
       "      <th>3</th>\n",
       "      <td>3.5</td>\n",
       "      <td>6</td>\n",
       "      <td>9.1</td>\n",
       "      <td>11.1</td>\n",
       "      <td>255</td>\n",
       "    </tr>\n",
       "    <tr>\n",
       "      <th>4</th>\n",
       "      <td>3.5</td>\n",
       "      <td>6</td>\n",
       "      <td>8.7</td>\n",
       "      <td>10.6</td>\n",
       "      <td>244</td>\n",
       "    </tr>\n",
       "    <tr>\n",
       "      <th>5</th>\n",
       "      <td>3.5</td>\n",
       "      <td>6</td>\n",
       "      <td>7.7</td>\n",
       "      <td>10.0</td>\n",
       "      <td>230</td>\n",
       "    </tr>\n",
       "    <tr>\n",
       "      <th>6</th>\n",
       "      <td>3.5</td>\n",
       "      <td>6</td>\n",
       "      <td>8.1</td>\n",
       "      <td>10.1</td>\n",
       "      <td>232</td>\n",
       "    </tr>\n",
       "    <tr>\n",
       "      <th>7</th>\n",
       "      <td>3.7</td>\n",
       "      <td>6</td>\n",
       "      <td>9.0</td>\n",
       "      <td>11.1</td>\n",
       "      <td>255</td>\n",
       "    </tr>\n",
       "    <tr>\n",
       "      <th>8</th>\n",
       "      <td>3.7</td>\n",
       "      <td>6</td>\n",
       "      <td>9.5</td>\n",
       "      <td>11.6</td>\n",
       "      <td>267</td>\n",
       "    </tr>\n",
       "  </tbody>\n",
       "</table>\n",
       "</div>"
      ],
      "text/plain": [
       "   ENGINESIZE  CYLINDERS  FUELCONSUMPTION_HWY  FUELCONSUMPTION_COMB  \\\n",
       "0         2.0          4                  6.7                   8.5   \n",
       "1         2.4          4                  7.7                   9.6   \n",
       "2         1.5          4                  5.8                   5.9   \n",
       "3         3.5          6                  9.1                  11.1   \n",
       "4         3.5          6                  8.7                  10.6   \n",
       "5         3.5          6                  7.7                  10.0   \n",
       "6         3.5          6                  8.1                  10.1   \n",
       "7         3.7          6                  9.0                  11.1   \n",
       "8         3.7          6                  9.5                  11.6   \n",
       "\n",
       "   CO2EMISSIONS  \n",
       "0           196  \n",
       "1           221  \n",
       "2           136  \n",
       "3           255  \n",
       "4           244  \n",
       "5           230  \n",
       "6           232  \n",
       "7           255  \n",
       "8           267  "
      ]
     },
     "execution_count": 13,
     "metadata": {},
     "output_type": "execute_result"
    }
   ],
   "source": [
    "cdf = df [['ENGINESIZE', 'CYLINDERS', 'FUELCONSUMPTION_HWY', 'FUELCONSUMPTION_COMB', 'CO2EMISSIONS']]\n",
    "cdf.head (9)"
   ]
  },
  {
   "cell_type": "code",
   "execution_count": 14,
   "id": "3e096a73",
   "metadata": {},
   "outputs": [
    {
     "data": {
      "text/plain": [
       "<function matplotlib.pyplot.show(close=None, block=None)>"
      ]
     },
     "execution_count": 14,
     "metadata": {},
     "output_type": "execute_result"
    },
    {
     "data": {
      "image/png": "[encoded data removed]",
      "text/plain": [
       "<Figure size 640x480 with 1 Axes>"
      ]
     },
     "metadata": {},
     "output_type": "display_data"
    }
   ],
   "source": [
    "plt. scatter (cdf.ENGINESIZE, cdf.CO2EMISSIONS, color = 'purple')\n",
    "plt.xlabel ('cdf.ENGINESIZE')\n",
    "plt.ylabel ('cdf.CO2EMISSIONS')\n",
    "plt.show"
   ]
  },
  {
   "cell_type": "code",
   "execution_count": 15,
   "id": "e2a1851e",
   "metadata": {},
   "outputs": [
    {
     "name": "stdout",
     "output_type": "stream",
     "text": [
      "[ True  True  True ...  True  True  True]\n",
      "[False False False ... False False False]\n",
      "      ENGINESIZE  CYLINDERS  FUELCONSUMPTION_HWY  FUELCONSUMPTION_COMB  \\\n",
      "0            2.0          4                  6.7                   8.5   \n",
      "1            2.4          4                  7.7                   9.6   \n",
      "2            1.5          4                  5.8                   5.9   \n",
      "3            3.5          6                  9.1                  11.1   \n",
      "4            3.5          6                  8.7                  10.6   \n",
      "...          ...        ...                  ...                   ...   \n",
      "1062         3.0          6                  9.8                  11.8   \n",
      "1063         3.2          6                  9.5                  11.5   \n",
      "1064         3.0          6                  9.8                  11.8   \n",
      "1065         3.2          6                  9.3                  11.3   \n",
      "1066         3.2          6                 10.2                  12.8   \n",
      "\n",
      "      CO2EMISSIONS  \n",
      "0              196  \n",
      "1              221  \n",
      "2              136  \n",
      "3              255  \n",
      "4              244  \n",
      "...            ...  \n",
      "1062           271  \n",
      "1063           264  \n",
      "1064           271  \n",
      "1065           260  \n",
      "1066           294  \n",
      "\n",
      "[1067 rows x 5 columns]\n",
      "      ENGINESIZE  CYLINDERS  FUELCONSUMPTION_HWY  FUELCONSUMPTION_COMB  \\\n",
      "0            2.0          4                  6.7                   8.5   \n",
      "1            2.4          4                  7.7                   9.6   \n",
      "2            1.5          4                  5.8                   5.9   \n",
      "3            3.5          6                  9.1                  11.1   \n",
      "4            3.5          6                  8.7                  10.6   \n",
      "...          ...        ...                  ...                   ...   \n",
      "1062         3.0          6                  9.8                  11.8   \n",
      "1063         3.2          6                  9.5                  11.5   \n",
      "1064         3.0          6                  9.8                  11.8   \n",
      "1065         3.2          6                  9.3                  11.3   \n",
      "1066         3.2          6                 10.2                  12.8   \n",
      "\n",
      "      CO2EMISSIONS  \n",
      "0              196  \n",
      "1              221  \n",
      "2              136  \n",
      "3              255  \n",
      "4              244  \n",
      "...            ...  \n",
      "1062           271  \n",
      "1063           264  \n",
      "1064           271  \n",
      "1065           260  \n",
      "1066           294  \n",
      "\n",
      "[889 rows x 5 columns]\n",
      "      ENGINESIZE  CYLINDERS  FUELCONSUMPTION_HWY  FUELCONSUMPTION_COMB  \\\n",
      "5            3.5          6                  7.7                  10.0   \n",
      "7            3.7          6                  9.0                  11.1   \n",
      "15           4.7          8                 12.2                  15.4   \n",
      "27           3.0          6                  6.4                   8.3   \n",
      "32           3.0          6                  6.4                   8.4   \n",
      "...          ...        ...                  ...                   ...   \n",
      "1042         1.4          4                  5.2                   5.4   \n",
      "1045         2.5          5                  8.0                   9.7   \n",
      "1046         2.5          5                  7.8                   9.8   \n",
      "1052         2.0          4                  9.2                  11.6   \n",
      "1059         3.2          6                  8.1                  10.2   \n",
      "\n",
      "      CO2EMISSIONS  \n",
      "5              230  \n",
      "7              255  \n",
      "15             354  \n",
      "27             224  \n",
      "32             227  \n",
      "...            ...  \n",
      "1042           124  \n",
      "1045           223  \n",
      "1046           225  \n",
      "1052           267  \n",
      "1059           235  \n",
      "\n",
      "[178 rows x 5 columns]\n"
     ]
    }
   ],
   "source": [
    "msk = np.random.rand (len (df)) < 0.8\n",
    "train = cdf[msk]\n",
    "test = cdf [~msk]\n",
    "print (msk)\n",
    "print (~msk)\n",
    "print (cdf)\n",
    "print (train)\n",
    "print (test)"
   ]
  },
  {
   "cell_type": "markdown",
   "id": "eb317b4c",
   "metadata": {},
   "source": [
    "#### Modeling"
   ]
  },
  {
   "cell_type": "code",
   "execution_count": 18,
   "id": "135d65fb",
   "metadata": {},
   "outputs": [
    {
     "data": {
      "text/plain": [
       "array([[ 1.  ,  2.  ,  4.  ],\n",
       "       [ 1.  ,  2.4 ,  5.76],\n",
       "       [ 1.  ,  1.5 ,  2.25],\n",
       "       ...,\n",
       "       [ 1.  ,  3.  ,  9.  ],\n",
       "       [ 1.  ,  3.2 , 10.24],\n",
       "       [ 1.  ,  3.2 , 10.24]])"
      ]
     },
     "execution_count": 18,
     "metadata": {},
     "output_type": "execute_result"
    }
   ],
   "source": [
    "from sklearn.preprocessing import PolynomialFeatures\n",
    "from sklearn import linear_model\n",
    "\n",
    "train_x = np.asanyarray(train[['ENGINESIZE']])\n",
    "train_y = np.asanyarray(train[['CO2EMISSIONS']])\n",
    "\n",
    "test_x = np.asanyarray(test[['ENGINESIZE']])  \n",
    "test_y = np.asanyarray(test[['CO2EMISSIONS']]) \n",
    "                               \n",
    "poly = PolynomialFeatures (degree = 2)\n",
    "train_x_poly = poly.fit_transform(train_x)\n",
    "train_x_poly"
   ]
  },
  {
   "cell_type": "markdown",
   "id": "d04c2293",
   "metadata": {},
   "source": [
    "#### Linear Regression Function "
   ]
  },
  {
   "cell_type": "code",
   "execution_count": 19,
   "id": "c5e4ec12",
   "metadata": {},
   "outputs": [
    {
     "name": "stdout",
     "output_type": "stream",
     "text": [
      "coefficiants:  [[ 0.         50.48928551 -1.56297857]]\n",
      "intercept:  [107.03149384]\n"
     ]
    }
   ],
   "source": [
    "clf = linear_model.LinearRegression()\n",
    "train_y_ = clf.fit  (train_x_poly, train_y)\n",
    "\n",
    "print ('coefficiants: ', clf.coef_)\n",
    "print ('intercept: ', clf.intercept_)"
   ]
  },
  {
   "cell_type": "code",
   "execution_count": 23,
   "id": "202d45dd",
   "metadata": {},
   "outputs": [
    {
     "data": {
      "text/plain": [
       "Text(0, 0.5, 'CO2EMISSIONS')"
      ]
     },
     "execution_count": 23,
     "metadata": {},
     "output_type": "execute_result"
    },
    {
     "data": {
      "image/png": "[encoded data removed]",
      "text/plain": [
       "<Figure size 640x480 with 1 Axes>"
      ]
     },
     "metadata": {},
     "output_type": "display_data"
    }
   ],
   "source": [
    "plt.scatter(train.ENGINESIZE, train.CO2EMISSIONS, color='blue')\n",
    "\n",
    "xx = np.arange(0.0, 10.0, 0.1)\n",
    "yy = clf.intercept_[0] + clf.coef_[0][1]*xx + clf.coef_[0][2]* np.power(xx, 2)\n",
    "plt.plot(xx, yy, '-r')\n",
    "\n",
    "\n",
    "plt.xlabel('ENGINE SIZE')\n",
    "plt.ylabel('CO2EMISSIONS')\n",
    "\n",
    "\n"
   ]
  },
  {
   "cell_type": "code",
   "execution_count": 24,
   "id": "6fec7629",
   "metadata": {},
   "outputs": [
    {
     "name": "stdout",
     "output_type": "stream",
     "text": [
      "Mean Squared Error:1072.88 \n",
      "Mean Absolute Error:25.39 \n",
      "R2-Score : 0.76 \n"
     ]
    }
   ],
   "source": [
    "from sklearn.metrics import r2_score\n",
    "\n",
    "test_x_poly = poly.fit_transform(test_x)\n",
    "test_y_ = clf.predict(test_x_poly)\n",
    "\n",
    "\n",
    "print (\"Mean Squared Error:%.2f \" % np.mean((test_y_ - test_y)** 2))\n",
    "print (\"Mean Absolute Error:%.2f \" % np.mean (np.absolute(test_y_ -test_y)))\n",
    "print ( \"R2-Score : %.2f \" % r2_score(test_y, test_y_))"
   ]
  },
  {
   "cell_type": "code",
   "execution_count": null,
   "id": "34d6a7d9",
   "metadata": {},
   "outputs": [],
   "source": []
  }
 ],
 "metadata": {
  "kernelspec": {
   "display_name": "Python 3 (ipykernel)",
   "language": "python",
   "name": "python3"
  },
  "language_info": {
   "codemirror_mode": {
    "name": "ipython",
    "version": 3
   },
   "file_extension": ".py",
   "mimetype": "text/x-python",
   "name": "python",
   "nbconvert_exporter": "python",
   "pygments_lexer": "ipython3",
   "version": "3.11.5"
  }
 },
 "nbformat": 4,
 "nbformat_minor": 5
}
